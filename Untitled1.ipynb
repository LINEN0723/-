{
  "nbformat": 4,
  "nbformat_minor": 0,
  "metadata": {
    "colab": {
      "provenance": [],
      "authorship_tag": "ABX9TyNmqvFaQh9FDBUCovzdMuhJ",
      "include_colab_link": true
    },
    "kernelspec": {
      "name": "python3",
      "display_name": "Python 3"
    },
    "language_info": {
      "name": "python"
    },
    "accelerator": "GPU"
  },
  "cells": [
    {
      "cell_type": "markdown",
      "metadata": {
        "id": "view-in-github",
        "colab_type": "text"
      },
      "source": [
        "<a href=\"https://colab.research.google.com/github/LINEN0723/machine-learning/blob/main/Untitled1.ipynb\" target=\"_parent\"><img src=\"https://colab.research.google.com/assets/colab-badge.svg\" alt=\"Open In Colab\"/></a>"
      ]
    },
    {
      "cell_type": "code",
      "source": [
        "from keras.datasets.mnist import load_data\n",
        "(x_train,y_train),(x_test,y_test)=load_data()"
      ],
      "metadata": {
        "id": "KVBcpirV-FaY"
      },
      "execution_count": null,
      "outputs": []
    },
    {
      "cell_type": "code",
      "execution_count": null,
      "metadata": {
        "colab": {
          "base_uri": "https://localhost:8080/"
        },
        "id": "oF-cjdVC9oYm",
        "outputId": "7b42159e-b806-498d-e0d6-5e708dc99c5e"
      },
      "outputs": [
        {
          "output_type": "stream",
          "name": "stdout",
          "text": [
            "Model: \"sequential_1\"\n",
            "_________________________________________________________________\n",
            " Layer (type)                Output Shape              Param #   \n",
            "=================================================================\n",
            " dense_2 (Dense)             (None, 128)               100480    \n",
            "                                                                 \n",
            "=================================================================\n",
            "Total params: 100,480\n",
            "Trainable params: 100,480\n",
            "Non-trainable params: 0\n",
            "_________________________________________________________________\n"
          ]
        }
      ],
      "source": [
        "#784是轉成1維   /255是要讓資料在0~1之間\n",
        "xx_train=x_train.reshape(60000,784)/255\n",
        "xx_test=x_test.reshape(10000,784)/255\n",
        "from keras.utils.np_utils import to_categorical\n",
        "yy_train = to_categorical(y_train)\n",
        "yy_test = to_categorical(y_test)\n",
        "from keras.models import Sequential\n",
        "model = Sequential()\n",
        "from keras.layers import Dense\n",
        "from keras.layers import Dense\n",
        "model.add(Dense(128,activation=\"relu\",input_dim=784))\n",
        "model.summary()#784*128+128=100480"
      ]
    },
    {
      "cell_type": "code",
      "source": [
        "model.add(Dense(64,activation=\"relu\"))\n",
        "model.summary()"
      ],
      "metadata": {
        "colab": {
          "base_uri": "https://localhost:8080/"
        },
        "id": "SAhHUzOJBBme",
        "outputId": "e865c698-60e7-439d-9abd-0e6051b0e4b3"
      },
      "execution_count": null,
      "outputs": [
        {
          "output_type": "stream",
          "name": "stdout",
          "text": [
            "Model: \"sequential_1\"\n",
            "_________________________________________________________________\n",
            " Layer (type)                Output Shape              Param #   \n",
            "=================================================================\n",
            " dense_2 (Dense)             (None, 128)               100480    \n",
            "                                                                 \n",
            " dense_3 (Dense)             (None, 10)                1290      \n",
            "                                                                 \n",
            " dense_4 (Dense)             (None, 64)                704       \n",
            "                                                                 \n",
            "=================================================================\n",
            "Total params: 102,474\n",
            "Trainable params: 102,474\n",
            "Non-trainable params: 0\n",
            "_________________________________________________________________\n"
          ]
        }
      ]
    },
    {
      "cell_type": "code",
      "source": [
        "model.add(Dense(10,activation='softmax'))\n",
        "model.summary()#summary可以看model 1290=128*10+10"
      ],
      "metadata": {
        "colab": {
          "base_uri": "https://localhost:8080/"
        },
        "id": "nX5JGfii-ER_",
        "outputId": "afc9bc11-98f1-4b64-9066-e5fb6eddb1e1"
      },
      "execution_count": null,
      "outputs": [
        {
          "output_type": "stream",
          "name": "stdout",
          "text": [
            "Model: \"sequential_1\"\n",
            "_________________________________________________________________\n",
            " Layer (type)                Output Shape              Param #   \n",
            "=================================================================\n",
            " dense_2 (Dense)             (None, 128)               100480    \n",
            "                                                                 \n",
            " dense_3 (Dense)             (None, 10)                1290      \n",
            "                                                                 \n",
            " dense_4 (Dense)             (None, 64)                704       \n",
            "                                                                 \n",
            " dense_5 (Dense)             (None, 10)                650       \n",
            "                                                                 \n",
            "=================================================================\n",
            "Total params: 103,124\n",
            "Trainable params: 103,124\n",
            "Non-trainable params: 0\n",
            "_________________________________________________________________\n"
          ]
        }
      ]
    },
    {
      "cell_type": "code",
      "source": [
        "model.compile(loss='categorical_crossentropy', optimizer='adam', metrics=['accuracy'])"
      ],
      "metadata": {
        "id": "uMCM0FDQ_vHP"
      },
      "execution_count": null,
      "outputs": []
    },
    {
      "cell_type": "code",
      "source": [
        "train_history=model.fit(xx_train,yy_train,batch_size=100,epochs=15,validation_split=0.15)#訓練10組"
      ],
      "metadata": {
        "colab": {
          "base_uri": "https://localhost:8080/"
        },
        "id": "5akewE1U_xUv",
        "outputId": "31bb3cbf-d70f-4a5d-df98-a6c85dd9f123"
      },
      "execution_count": null,
      "outputs": [
        {
          "output_type": "stream",
          "name": "stdout",
          "text": [
            "Epoch 1/15\n",
            "510/510 [==============================] - 3s 5ms/step - loss: 1.2193 - accuracy: 0.5283 - val_loss: 0.7957 - val_accuracy: 0.6936\n",
            "Epoch 2/15\n",
            "510/510 [==============================] - 2s 3ms/step - loss: 0.5779 - accuracy: 0.8148 - val_loss: 0.2811 - val_accuracy: 0.9427\n",
            "Epoch 3/15\n",
            "510/510 [==============================] - 2s 3ms/step - loss: 0.2144 - accuracy: 0.9519 - val_loss: 0.1622 - val_accuracy: 0.9621\n",
            "Epoch 4/15\n",
            "510/510 [==============================] - 2s 4ms/step - loss: 0.1404 - accuracy: 0.9648 - val_loss: 0.1435 - val_accuracy: 0.9652\n",
            "Epoch 5/15\n",
            "510/510 [==============================] - 2s 3ms/step - loss: 0.1045 - accuracy: 0.9731 - val_loss: 0.1289 - val_accuracy: 0.9680\n",
            "Epoch 6/15\n",
            "510/510 [==============================] - 2s 3ms/step - loss: 0.0858 - accuracy: 0.9780 - val_loss: 0.1351 - val_accuracy: 0.9669\n",
            "Epoch 7/15\n",
            "510/510 [==============================] - 2s 3ms/step - loss: 0.0700 - accuracy: 0.9823 - val_loss: 0.1324 - val_accuracy: 0.9680\n",
            "Epoch 8/15\n",
            "510/510 [==============================] - 2s 3ms/step - loss: 0.0550 - accuracy: 0.9857 - val_loss: 0.1261 - val_accuracy: 0.9697\n",
            "Epoch 9/15\n",
            "510/510 [==============================] - 2s 3ms/step - loss: 0.0487 - accuracy: 0.9872 - val_loss: 0.1288 - val_accuracy: 0.9714\n",
            "Epoch 10/15\n",
            "510/510 [==============================] - 2s 3ms/step - loss: 0.0411 - accuracy: 0.9892 - val_loss: 0.1318 - val_accuracy: 0.9702\n",
            "Epoch 11/15\n",
            "510/510 [==============================] - 2s 3ms/step - loss: 0.0370 - accuracy: 0.9898 - val_loss: 0.1348 - val_accuracy: 0.9688\n",
            "Epoch 12/15\n",
            "510/510 [==============================] - 2s 3ms/step - loss: 0.0298 - accuracy: 0.9920 - val_loss: 0.1325 - val_accuracy: 0.9718\n",
            "Epoch 13/15\n",
            "510/510 [==============================] - 2s 3ms/step - loss: 0.0280 - accuracy: 0.9924 - val_loss: 0.1548 - val_accuracy: 0.9666\n",
            "Epoch 14/15\n",
            "510/510 [==============================] - 2s 3ms/step - loss: 0.0282 - accuracy: 0.9923 - val_loss: 0.1513 - val_accuracy: 0.9693\n",
            "Epoch 15/15\n",
            "510/510 [==============================] - 2s 3ms/step - loss: 0.0221 - accuracy: 0.9942 - val_loss: 0.1532 - val_accuracy: 0.9688\n"
          ]
        }
      ]
    },
    {
      "cell_type": "code",
      "source": [
        "import matplotlib.pyplot as plt\n",
        "%matplotlib inline \n",
        "plt.plot(train_history.history['loss'])  \n",
        "plt.plot(train_history.history['val_loss'])  \n",
        "plt.title('Train History')  \n",
        "plt.ylabel('loss')  \n",
        "plt.xlabel('Epoch')  \n",
        "plt.legend(['loss', 'val_loss'], loc='upper left')  \n",
        "plt.show() \n"
      ],
      "metadata": {
        "colab": {
          "base_uri": "https://localhost:8080/",
          "height": 295
        },
        "id": "PXCRRjFMAvxg",
        "outputId": "a05ecd29-cb00-4f24-feba-5c8ac41152d3"
      },
      "execution_count": null,
      "outputs": [
        {
          "output_type": "display_data",
          "data": {
            "text/plain": [
              "<Figure size 432x288 with 1 Axes>"
            ],
            "image/png": "[encoded data removed]"
          },
          "metadata": {
            "needs_background": "light"
          }
        }
      ]
    },
    {
      "cell_type": "code",
      "source": [
        "model.evaluate(xx_test,yy_test)"
      ],
      "metadata": {
        "colab": {
          "base_uri": "https://localhost:8080/"
        },
        "id": "0z8rh4cbAGSI",
        "outputId": "ae66aac1-40fc-4609-8e85-edc0d5d8c176"
      },
      "execution_count": null,
      "outputs": [
        {
          "output_type": "stream",
          "name": "stdout",
          "text": [
            "313/313 [==============================] - 1s 2ms/step - loss: 0.1586 - accuracy: 0.9659\n"
          ]
        },
        {
          "output_type": "execute_result",
          "data": {
            "text/plain": [
              "[0.158617302775383, 0.9659000039100647]"
            ]
          },
          "metadata": {},
          "execution_count": 27
        }
      ]
    },
    {
      "cell_type": "code",
      "source": [
        "model.predict(xx_test)"
      ],
      "metadata": {
        "colab": {
          "base_uri": "https://localhost:8080/"
        },
        "id": "kuEBh1wFAJHo",
        "outputId": "ae037b25-37cc-44ec-e54b-ff27a0b92f32"
      },
      "execution_count": null,
      "outputs": [
        {
          "output_type": "execute_result",
          "data": {
            "text/plain": [
              "array([[0.14413354, 0.08549759, 0.10143918, ..., 0.07293383, 0.13412857,\n",
              "        0.09366135],\n",
              "       [0.13250414, 0.0929859 , 0.15210654, ..., 0.10878168, 0.07895308,\n",
              "        0.08129015],\n",
              "       [0.1710068 , 0.09827699, 0.13799416, ..., 0.08218551, 0.08635721,\n",
              "        0.11028218],\n",
              "       ...,\n",
              "       [0.13182871, 0.08018073, 0.1266543 , ..., 0.04417904, 0.11898551,\n",
              "        0.09957444],\n",
              "       [0.10655103, 0.08090683, 0.11467984, ..., 0.05144936, 0.10749359,\n",
              "        0.11042497],\n",
              "       [0.13102587, 0.10677593, 0.14011845, ..., 0.03635442, 0.10467956,\n",
              "        0.08907604]], dtype=float32)"
            ]
          },
          "metadata": {},
          "execution_count": 18
        }
      ]
    },
    {
      "cell_type": "code",
      "source": [
        "import numpy\n",
        "pre = model.predict(xx_test)\n",
        "pre=numpy.argmax(pre,axis=1)\n",
        "pre"
      ],
      "metadata": {
        "colab": {
          "base_uri": "https://localhost:8080/"
        },
        "id": "H1-G8lDNA1IN",
        "outputId": "5b7735ed-a862-4ced-92ea-6b1a6cc84ed1"
      },
      "execution_count": null,
      "outputs": [
        {
          "output_type": "execute_result",
          "data": {
            "text/plain": [
              "array([0, 4, 0, ..., 5, 5, 5])"
            ]
          },
          "metadata": {},
          "execution_count": 20
        }
      ]
    },
    {
      "cell_type": "code",
      "source": [
        "from sklearn.metrics import confusion_matrix\n",
        "import pandas\n",
        "#panda混淆矩陣近來正確答案跟預測的\n",
        "pandas.DataFrame(confusion_matrix(y_test,pre))"
      ],
      "metadata": {
        "colab": {
          "base_uri": "https://localhost:8080/",
          "height": 363
        },
        "id": "Z6l9AWMYA4Eh",
        "outputId": "f25fdedb-46f8-4cde-e93b-898b3d6fd7f4"
      },
      "execution_count": null,
      "outputs": [
        {
          "output_type": "execute_result",
          "data": {
            "text/plain": [
              "     0    1    2    3    4    5  6  7    8    9\n",
              "0   96   49   76  117   41   76  0  0  497   28\n",
              "1  906   13  120    4   60    0  0  0    1   31\n",
              "2  148  107  447   29   44   23  0  0   97  137\n",
              "3  243   28  292    3   66    4  0  0  252  122\n",
              "4  102   48  358  129   37   56  0  0  163   89\n",
              "5  249   38  126   20   93   52  0  0  281   33\n",
              "6   56  102  160   88   77  179  0  0  119  177\n",
              "7  222   73  377   14  172    8  0  0  120   42\n",
              "8  311   79  194   52   79   17  0  0  170   72\n",
              "9  192   75  271   74   41   19  0  0  322   15"
            ],
            "text/html": [
              "\n",
              "  <div id=\"df-510facc6-bfd7-41f1-acdd-d4f7750a5bd1\">\n",
              "    <div class=\"colab-df-container\">\n",
              "      <div>\n",
              "<style scoped>\n",
              "    .dataframe tbody tr th:only-of-type {\n",
              "        vertical-align: middle;\n",
              "    }\n",
              "\n",
              "    .dataframe tbody tr th {\n",
              "        vertical-align: top;\n",
              "    }\n",
              "\n",
              "    .dataframe thead th {\n",
              "        text-align: right;\n",
              "    }\n",
              "</style>\n",
              "<table border=\"1\" class=\"dataframe\">\n",
              "  <thead>\n",
              "    <tr style=\"text-align: right;\">\n",
              "      <th></th>\n",
              "      <th>0</th>\n",
              "      <th>1</th>\n",
              "      <th>2</th>\n",
              "      <th>3</th>\n",
              "      <th>4</th>\n",
              "      <th>5</th>\n",
              "      <th>6</th>\n",
              "      <th>7</th>\n",
              "      <th>8</th>\n",
              "      <th>9</th>\n",
              "    </tr>\n",
              "  </thead>\n",
              "  <tbody>\n",
              "    <tr>\n",
              "      <th>0</th>\n",
              "      <td>96</td>\n",
              "      <td>49</td>\n",
              "      <td>76</td>\n",
              "      <td>117</td>\n",
              "      <td>41</td>\n",
              "      <td>76</td>\n",
              "      <td>0</td>\n",
              "      <td>0</td>\n",
              "      <td>497</td>\n",
              "      <td>28</td>\n",
              "    </tr>\n",
              "    <tr>\n",
              "      <th>1</th>\n",
              "      <td>906</td>\n",
              "      <td>13</td>\n",
              "      <td>120</td>\n",
              "      <td>4</td>\n",
              "      <td>60</td>\n",
              "      <td>0</td>\n",
              "      <td>0</td>\n",
              "      <td>0</td>\n",
              "      <td>1</td>\n",
              "      <td>31</td>\n",
              "    </tr>\n",
              "    <tr>\n",
              "      <th>2</th>\n",
              "      <td>148</td>\n",
              "      <td>107</td>\n",
              "      <td>447</td>\n",
              "      <td>29</td>\n",
              "      <td>44</td>\n",
              "      <td>23</td>\n",
              "      <td>0</td>\n",
              "      <td>0</td>\n",
              "      <td>97</td>\n",
              "      <td>137</td>\n",
              "    </tr>\n",
              "    <tr>\n",
              "      <th>3</th>\n",
              "      <td>243</td>\n",
              "      <td>28</td>\n",
              "      <td>292</td>\n",
              "      <td>3</td>\n",
              "      <td>66</td>\n",
              "      <td>4</td>\n",
              "      <td>0</td>\n",
              "      <td>0</td>\n",
              "      <td>252</td>\n",
              "      <td>122</td>\n",
              "    </tr>\n",
              "    <tr>\n",
              "      <th>4</th>\n",
              "      <td>102</td>\n",
              "      <td>48</td>\n",
              "      <td>358</td>\n",
              "      <td>129</td>\n",
              "      <td>37</td>\n",
              "      <td>56</td>\n",
              "      <td>0</td>\n",
              "      <td>0</td>\n",
              "      <td>163</td>\n",
              "      <td>89</td>\n",
              "    </tr>\n",
              "    <tr>\n",
              "      <th>5</th>\n",
              "      <td>249</td>\n",
              "      <td>38</td>\n",
              "      <td>126</td>\n",
              "      <td>20</td>\n",
              "      <td>93</td>\n",
              "      <td>52</td>\n",
              "      <td>0</td>\n",
              "      <td>0</td>\n",
              "      <td>281</td>\n",
              "      <td>33</td>\n",
              "    </tr>\n",
              "    <tr>\n",
              "      <th>6</th>\n",
              "      <td>56</td>\n",
              "      <td>102</td>\n",
              "      <td>160</td>\n",
              "      <td>88</td>\n",
              "      <td>77</td>\n",
              "      <td>179</td>\n",
              "      <td>0</td>\n",
              "      <td>0</td>\n",
              "      <td>119</td>\n",
              "      <td>177</td>\n",
              "    </tr>\n",
              "    <tr>\n",
              "      <th>7</th>\n",
              "      <td>222</td>\n",
              "      <td>73</td>\n",
              "      <td>377</td>\n",
              "      <td>14</td>\n",
              "      <td>172</td>\n",
              "      <td>8</td>\n",
              "      <td>0</td>\n",
              "      <td>0</td>\n",
              "      <td>120</td>\n",
              "      <td>42</td>\n",
              "    </tr>\n",
              "    <tr>\n",
              "      <th>8</th>\n",
              "      <td>311</td>\n",
              "      <td>79</td>\n",
              "      <td>194</td>\n",
              "      <td>52</td>\n",
              "      <td>79</td>\n",
              "      <td>17</td>\n",
              "      <td>0</td>\n",
              "      <td>0</td>\n",
              "      <td>170</td>\n",
              "      <td>72</td>\n",
              "    </tr>\n",
              "    <tr>\n",
              "      <th>9</th>\n",
              "      <td>192</td>\n",
              "      <td>75</td>\n",
              "      <td>271</td>\n",
              "      <td>74</td>\n",
              "      <td>41</td>\n",
              "      <td>19</td>\n",
              "      <td>0</td>\n",
              "      <td>0</td>\n",
              "      <td>322</td>\n",
              "      <td>15</td>\n",
              "    </tr>\n",
              "  </tbody>\n",
              "</table>\n",
              "</div>\n",
              "      <button class=\"colab-df-convert\" onclick=\"convertToInteractive('df-510facc6-bfd7-41f1-acdd-d4f7750a5bd1')\"\n",
              "              title=\"Convert this dataframe to an interactive table.\"\n",
              "              style=\"display:none;\">\n",
              "        \n",
              "  <svg xmlns=\"http://www.w3.org/2000/svg\" height=\"24px\"viewBox=\"0 0 24 24\"\n",
              "       width=\"24px\">\n",
              "    <path d=\"M0 0h24v24H0V0z\" fill=\"none\"/>\n",
              "    <path d=\"M18.56 5.44l.94 2.06.94-2.06 2.06-.94-2.06-.94-.94-2.06-.94 2.06-2.06.94zm-11 1L8.5 8.5l.94-2.06 2.06-.94-2.06-.94L8.5 2.5l-.94 2.06-2.06.94zm10 10l.94 2.06.94-2.06 2.06-.94-2.06-.94-.94-2.06-.94 2.06-2.06.94z\"/><path d=\"M17.41 7.96l-1.37-1.37c-.4-.4-.92-.59-1.43-.59-.52 0-1.04.2-1.43.59L10.3 9.45l-7.72 7.72c-.78.78-.78 2.05 0 2.83L4 21.41c.39.39.9.59 1.41.59.51 0 1.02-.2 1.41-.59l7.78-7.78 2.81-2.81c.8-.78.8-2.07 0-2.86zM5.41 20L4 18.59l7.72-7.72 1.47 1.35L5.41 20z\"/>\n",
              "  </svg>\n",
              "      </button>\n",
              "      \n",
              "  <style>\n",
              "    .colab-df-container {\n",
              "      display:flex;\n",
              "      flex-wrap:wrap;\n",
              "      gap: 12px;\n",
              "    }\n",
              "\n",
              "    .colab-df-convert {\n",
              "      background-color: #E8F0FE;\n",
              "      border: none;\n",
              "      border-radius: 50%;\n",
              "      cursor: pointer;\n",
              "      display: none;\n",
              "      fill: #1967D2;\n",
              "      height: 32px;\n",
              "      padding: 0 0 0 0;\n",
              "      width: 32px;\n",
              "    }\n",
              "\n",
              "    .colab-df-convert:hover {\n",
              "      background-color: #E2EBFA;\n",
              "      box-shadow: 0px 1px 2px rgba(60, 64, 67, 0.3), 0px 1px 3px 1px rgba(60, 64, 67, 0.15);\n",
              "      fill: #174EA6;\n",
              "    }\n",
              "\n",
              "    [theme=dark] .colab-df-convert {\n",
              "      background-color: #3B4455;\n",
              "      fill: #D2E3FC;\n",
              "    }\n",
              "\n",
              "    [theme=dark] .colab-df-convert:hover {\n",
              "      background-color: #434B5C;\n",
              "      box-shadow: 0px 1px 3px 1px rgba(0, 0, 0, 0.15);\n",
              "      filter: drop-shadow(0px 1px 2px rgba(0, 0, 0, 0.3));\n",
              "      fill: #FFFFFF;\n",
              "    }\n",
              "  </style>\n",
              "\n",
              "      <script>\n",
              "        const buttonEl =\n",
              "          document.querySelector('#df-510facc6-bfd7-41f1-acdd-d4f7750a5bd1 button.colab-df-convert');\n",
              "        buttonEl.style.display =\n",
              "          google.colab.kernel.accessAllowed ? 'block' : 'none';\n",
              "\n",
              "        async function convertToInteractive(key) {\n",
              "          const element = document.querySelector('#df-510facc6-bfd7-41f1-acdd-d4f7750a5bd1');\n",
              "          const dataTable =\n",
              "            await google.colab.kernel.invokeFunction('convertToInteractive',\n",
              "                                                     [key], {});\n",
              "          if (!dataTable) return;\n",
              "\n",
              "          const docLinkHtml = 'Like what you see? Visit the ' +\n",
              "            '<a target=\"_blank\" href=https://colab.research.google.com/notebooks/data_table.ipynb>data table notebook</a>'\n",
              "            + ' to learn more about interactive tables.';\n",
              "          element.innerHTML = '';\n",
              "          dataTable['output_type'] = 'display_data';\n",
              "          await google.colab.output.renderOutput(dataTable, element);\n",
              "          const docLink = document.createElement('div');\n",
              "          docLink.innerHTML = docLinkHtml;\n",
              "          element.appendChild(docLink);\n",
              "        }\n",
              "      </script>\n",
              "    </div>\n",
              "  </div>\n",
              "  "
            ]
          },
          "metadata": {},
          "execution_count": 28
        }
      ]
    }
  ]
}